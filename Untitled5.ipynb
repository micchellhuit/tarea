{
  "nbformat": 4,
  "nbformat_minor": 0,
  "metadata": {
    "colab": {
      "provenance": []
    },
    "kernelspec": {
      "name": "python3",
      "display_name": "Python 3"
    },
    "language_info": {
      "name": "python"
    }
  },
  "cells": [
    {
      "cell_type": "code",
      "execution_count": 8,
      "metadata": {
        "colab": {
          "base_uri": "https://localhost:8080/"
        },
        "id": "7V03_GZTaewx",
        "outputId": "ce13628c-e0b5-4176-9d3b-8076868890d1"
      },
      "outputs": [
        {
          "output_type": "stream",
          "name": "stdout",
          "text": [
            "escribe el nombre del alumno: javier\n",
            "escribe la calificacion de javier: 10\n",
            "escribe el nombre del alumno: michel\n",
            "escribe la calificacion de michel: 10\n",
            "escribe el nombre del alumno: luis\n",
            "escribe la calificacion de luis: 9\n",
            "escribe el nombre del alumno: pepesin\n",
            "escribe la calificacion de pepesin: 6\n",
            "escribe el nombre del alumno: laura\n",
            "escribe la calificacion de laura: 8\n",
            "los siguientes alumnos tienen promedio mayor a 9:\n",
            "javier\n",
            "michel\n",
            "luis\n"
          ]
        }
      ],
      "source": [
        "def leer_datos():\n",
        "    nombres = []\n",
        "    calificaciones = []\n",
        "    for i in range(5):\n",
        "        nombre = input(\"escribe el nombre del alumno: \")\n",
        "        calificacion = float(input(\"escribe la calificacion de \" + nombre + \": \"))\n",
        "        nombres.append(nombre)\n",
        "        calificaciones.append(calificacion)\n",
        "    return nombres, calificaciones\n",
        "\n",
        "def obtener_mejores(nombres, calificaciones):\n",
        "    mejores = []\n",
        "    for i in range(len(calificaciones)):\n",
        "        if calificaciones[i] >= 9.0:\n",
        "            mejores.append(nombres[i])\n",
        "    return mejores\n",
        "\n",
        "def imprimir_resultado(mejores):\n",
        "    if len(mejores) == 0:\n",
        "        print(\"ningun alumno tiene promedio mayor a 9:\")\n",
        "    else:\n",
        "        print(\"los siguientes alumnos tienen promedio mayor a 9:\")\n",
        "        for nombre in mejores:\n",
        "            print(nombre)\n",
        "nombres_alumnos, calificaciones_alumnos = leer_datos()\n",
        "mejores_alumnos = obtener_mejores(nombres_alumnos, calificaciones_alumnos)\n",
        "imprimir_resultado(mejores_alumnos)"
      ]
    }
  ]
}